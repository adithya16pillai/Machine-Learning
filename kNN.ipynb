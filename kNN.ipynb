{
 "cells": [
  {
   "cell_type": "code",
   "execution_count": 9,
   "id": "2054de6d-70d6-4b2f-9f25-e5e1b7ddcb04",
   "metadata": {},
   "outputs": [],
   "source": [
    "import numpy as np\n",
    "import pandas as pd\n",
    "import math\n",
    "from sklearn.model_selection import train_test_split\n",
    "import sklearn.neighbors\n",
    "from sklearn import metrics\n",
    "from sklearn.preprocessing import scale\n",
    "from collections import Counter"
   ]
  },
  {
   "cell_type": "code",
   "execution_count": 26,
   "id": "9d3f3f5a-08d5-41a6-82b4-f90c3e2dbaac",
   "metadata": {},
   "outputs": [
    {
     "data": {
      "text/html": [
       "<div>\n",
       "<style scoped>\n",
       "    .dataframe tbody tr th:only-of-type {\n",
       "        vertical-align: middle;\n",
       "    }\n",
       "\n",
       "    .dataframe tbody tr th {\n",
       "        vertical-align: top;\n",
       "    }\n",
       "\n",
       "    .dataframe thead th {\n",
       "        text-align: right;\n",
       "    }\n",
       "</style>\n",
       "<table border=\"1\" class=\"dataframe\">\n",
       "  <thead>\n",
       "    <tr style=\"text-align: right;\">\n",
       "      <th></th>\n",
       "      <th>pregnant</th>\n",
       "      <th>glucose</th>\n",
       "      <th>bp</th>\n",
       "      <th>skin</th>\n",
       "      <th>insulin</th>\n",
       "      <th>bmi</th>\n",
       "      <th>pedigree</th>\n",
       "      <th>age</th>\n",
       "      <th>label</th>\n",
       "    </tr>\n",
       "  </thead>\n",
       "  <tbody>\n",
       "    <tr>\n",
       "      <th>0</th>\n",
       "      <td>1</td>\n",
       "      <td>85</td>\n",
       "      <td>66</td>\n",
       "      <td>29</td>\n",
       "      <td>0</td>\n",
       "      <td>26.6</td>\n",
       "      <td>0.351</td>\n",
       "      <td>31</td>\n",
       "      <td>0</td>\n",
       "    </tr>\n",
       "    <tr>\n",
       "      <th>1</th>\n",
       "      <td>8</td>\n",
       "      <td>183</td>\n",
       "      <td>64</td>\n",
       "      <td>0</td>\n",
       "      <td>0</td>\n",
       "      <td>23.3</td>\n",
       "      <td>0.672</td>\n",
       "      <td>32</td>\n",
       "      <td>1</td>\n",
       "    </tr>\n",
       "    <tr>\n",
       "      <th>2</th>\n",
       "      <td>1</td>\n",
       "      <td>89</td>\n",
       "      <td>66</td>\n",
       "      <td>23</td>\n",
       "      <td>94</td>\n",
       "      <td>28.1</td>\n",
       "      <td>0.167</td>\n",
       "      <td>21</td>\n",
       "      <td>0</td>\n",
       "    </tr>\n",
       "    <tr>\n",
       "      <th>3</th>\n",
       "      <td>0</td>\n",
       "      <td>137</td>\n",
       "      <td>40</td>\n",
       "      <td>35</td>\n",
       "      <td>168</td>\n",
       "      <td>43.1</td>\n",
       "      <td>2.288</td>\n",
       "      <td>33</td>\n",
       "      <td>1</td>\n",
       "    </tr>\n",
       "    <tr>\n",
       "      <th>4</th>\n",
       "      <td>5</td>\n",
       "      <td>116</td>\n",
       "      <td>74</td>\n",
       "      <td>0</td>\n",
       "      <td>0</td>\n",
       "      <td>25.6</td>\n",
       "      <td>0.201</td>\n",
       "      <td>30</td>\n",
       "      <td>0</td>\n",
       "    </tr>\n",
       "    <tr>\n",
       "      <th>5</th>\n",
       "      <td>3</td>\n",
       "      <td>78</td>\n",
       "      <td>50</td>\n",
       "      <td>32</td>\n",
       "      <td>88</td>\n",
       "      <td>31.0</td>\n",
       "      <td>0.248</td>\n",
       "      <td>26</td>\n",
       "      <td>1</td>\n",
       "    </tr>\n",
       "    <tr>\n",
       "      <th>6</th>\n",
       "      <td>10</td>\n",
       "      <td>115</td>\n",
       "      <td>0</td>\n",
       "      <td>0</td>\n",
       "      <td>0</td>\n",
       "      <td>35.3</td>\n",
       "      <td>0.134</td>\n",
       "      <td>29</td>\n",
       "      <td>0</td>\n",
       "    </tr>\n",
       "    <tr>\n",
       "      <th>7</th>\n",
       "      <td>2</td>\n",
       "      <td>197</td>\n",
       "      <td>70</td>\n",
       "      <td>45</td>\n",
       "      <td>543</td>\n",
       "      <td>30.5</td>\n",
       "      <td>0.158</td>\n",
       "      <td>53</td>\n",
       "      <td>1</td>\n",
       "    </tr>\n",
       "    <tr>\n",
       "      <th>8</th>\n",
       "      <td>8</td>\n",
       "      <td>125</td>\n",
       "      <td>96</td>\n",
       "      <td>0</td>\n",
       "      <td>0</td>\n",
       "      <td>0.0</td>\n",
       "      <td>0.232</td>\n",
       "      <td>54</td>\n",
       "      <td>1</td>\n",
       "    </tr>\n",
       "    <tr>\n",
       "      <th>9</th>\n",
       "      <td>4</td>\n",
       "      <td>110</td>\n",
       "      <td>92</td>\n",
       "      <td>0</td>\n",
       "      <td>0</td>\n",
       "      <td>37.6</td>\n",
       "      <td>0.191</td>\n",
       "      <td>30</td>\n",
       "      <td>0</td>\n",
       "    </tr>\n",
       "  </tbody>\n",
       "</table>\n",
       "</div>"
      ],
      "text/plain": [
       "   pregnant  glucose  bp  skin  insulin   bmi  pedigree  age  label\n",
       "0         1       85  66    29        0  26.6     0.351   31      0\n",
       "1         8      183  64     0        0  23.3     0.672   32      1\n",
       "2         1       89  66    23       94  28.1     0.167   21      0\n",
       "3         0      137  40    35      168  43.1     2.288   33      1\n",
       "4         5      116  74     0        0  25.6     0.201   30      0\n",
       "5         3       78  50    32       88  31.0     0.248   26      1\n",
       "6        10      115   0     0        0  35.3     0.134   29      0\n",
       "7         2      197  70    45      543  30.5     0.158   53      1\n",
       "8         8      125  96     0        0   0.0     0.232   54      1\n",
       "9         4      110  92     0        0  37.6     0.191   30      0"
      ]
     },
     "execution_count": 26,
     "metadata": {},
     "output_type": "execute_result"
    }
   ],
   "source": [
    "df = pd.read_csv(r'C:\\Users\\adith\\Downloads\\pima-indians-diabetes.csv', header=None) #Loading dataset\n",
    "df.columns = ['pregnant', 'glucose', 'bp', 'skin', 'insulin', 'bmi', 'pedigree', 'age', 'label']\n",
    "data.head(10)"
   ]
  },
  {
   "cell_type": "code",
   "execution_count": 27,
   "id": "42895a30-87b8-412d-ac69-d27a8f5dc093",
   "metadata": {},
   "outputs": [],
   "source": [
    "import numpy as np\n",
    "from collections import Counter\n",
    "\n",
    "# implementation of the KNN algorithm\n",
    "class CustomKNN:\n",
    "    def __init__(self, n_neighbors=3, p=2):\n",
    "        self.n_neighbors = n_neighbors  # Number of neighbors\n",
    "        self.p = p  # Power parameter for Minkowski distance\n",
    "    \n",
    "    def fit(self, X_train, y_train):\n",
    "        self.X_train = np.array(X_train)\n",
    "        self.y_train = np.array(y_train)\n",
    "    \n",
    "    def predict(self, X_test):\n",
    "        X_test = np.array(X_test)\n",
    "        predictions = []\n",
    "        for test_point in X_test:\n",
    "            predictions.append(self._predict_single(test_point))\n",
    "        return np.array(predictions)\n",
    "    \n",
    "    def _predict_single(self, test_point):\n",
    "        distances = []\n",
    "        for x_train in self.X_train:\n",
    "            dist = np.sum(np.abs(test_point - x_train) ** self.p) ** (1/self.p)\n",
    "            distances.append(dist)\n",
    "        \n",
    "        k_indices = np.argsort(distances)[:self.n_neighbors]\n",
    "        \n",
    "        k_nearest_labels = [self.y_train[i] for i in k_indices]\n",
    "        \n",
    "        most_common_label = Counter(k_nearest_labels).most_common(1)[0][0]\n",
    "        return most_common_label"
   ]
  },
  {
   "cell_type": "code",
   "execution_count": 32,
   "id": "fec35ccf-858d-47e3-922f-b700d3ef8eb6",
   "metadata": {},
   "outputs": [],
   "source": [
    "# Prepare data\n",
    "X = df.iloc[:, :-1].values  # Features ('pregnant', 'glucose', 'bp', 'skin', 'insulin', 'bmi', 'pedigree', 'age')\n",
    "y = df.iloc[:, -1].values  # Labels ('label')\n",
    "\n",
    "# Split data into training and testing sets\n",
    "X_train, X_test, y_train, y_test = train_test_split(X, y, test_size=0.2, random_state=50)"
   ]
  },
  {
   "cell_type": "code",
   "execution_count": 33,
   "id": "e850b796-111f-41f9-91fa-bbaa0c1ced6e",
   "metadata": {},
   "outputs": [],
   "source": [
    "# Initialize and train the model\n",
    "knn = CustomKNN(n_neighbors=3, p=2)\n",
    "knn.fit(X_train, y_train)\n",
    "\n",
    "# Predict on the test set\n",
    "y_pred = knn.predict(X_test)"
   ]
  },
  {
   "cell_type": "code",
   "execution_count": 34,
   "id": "da591ce3-34d2-4a3d-a71e-64cd017c2660",
   "metadata": {},
   "outputs": [
    {
     "name": "stdout",
     "output_type": "stream",
     "text": [
      "Accuracy: 0.71\n"
     ]
    }
   ],
   "source": [
    "# Evaluate accuracy\n",
    "accuracy = np.mean(y_pred == y_test)\n",
    "print(f'Accuracy: {accuracy:.2f}')"
   ]
  },
  {
   "cell_type": "code",
   "execution_count": 35,
   "id": "3b9e66f5-0825-443c-9966-b50ba638c5d9",
   "metadata": {},
   "outputs": [
    {
     "name": "stdout",
     "output_type": "stream",
     "text": [
      "[[84 17]\n",
      " [27 26]]\n",
      "              precision    recall  f1-score   support\n",
      "\n",
      "           0       0.76      0.83      0.79       101\n",
      "           1       0.60      0.49      0.54        53\n",
      "\n",
      "    accuracy                           0.71       154\n",
      "   macro avg       0.68      0.66      0.67       154\n",
      "weighted avg       0.70      0.71      0.71       154\n",
      "\n"
     ]
    }
   ],
   "source": [
    "from sklearn.metrics import classification_report, confusion_matrix\n",
    "print(confusion_matrix(y_test, y_pred))\n",
    "print(classification_report(y_test, y_pred))\n"
   ]
  },
  {
   "cell_type": "code",
   "execution_count": 41,
   "id": "7a686fbf-01c7-4f24-bb47-39fa796fedad",
   "metadata": {},
   "outputs": [],
   "source": [
    "# Custom accuracy function\n",
    "def custom_accuracy(y_true, y_pred):\n",
    "    correct = np.sum(y_true == y_pred)\n",
    "    total = len(y_true)\n",
    "    return correct / total"
   ]
  },
  {
   "cell_type": "code",
   "execution_count": 42,
   "id": "57e5382d-b199-4fc3-9ff2-c9d3a6903f1e",
   "metadata": {},
   "outputs": [],
   "source": [
    "# Implementing the loop to test different k values without using sklearn's accuracy_score\n",
    "k_range = range(1, 20)\n",
    "score_list = []\n",
    "\n",
    "for k in k_range:\n",
    "    # Initialize and train the custom KNN model\n",
    "    knn = CustomKNN(n_neighbors=k, p=2)\n",
    "    knn.fit(X_train, y_train)\n",
    "    \n",
    "    # Predict using the custom KNN\n",
    "    y_pred = knn.predict(X_test)\n",
    "    \n",
    "    # Calculate the accuracy using the custom accuracy function\n",
    "    accuracy = custom_accuracy(y_test, y_pred)\n",
    "    \n",
    "    # Store the accuracy for each k\n",
    "    score_list.append(accuracy)"
   ]
  },
  {
   "cell_type": "code",
   "execution_count": 43,
   "id": "08bc1a18-db51-4669-9a13-96e48c6c539e",
   "metadata": {},
   "outputs": [
    {
     "name": "stdout",
     "output_type": "stream",
     "text": [
      "[0.6818181818181818, 0.6818181818181818, 0.7142857142857143, 0.7077922077922078, 0.6883116883116883, 0.7467532467532467, 0.7142857142857143, 0.7207792207792207, 0.7272727272727273, 0.7337662337662337, 0.7012987012987013, 0.7077922077922078, 0.7207792207792207, 0.7337662337662337, 0.7402597402597403, 0.7207792207792207, 0.7272727272727273, 0.7142857142857143, 0.7272727272727273]\n"
     ]
    }
   ],
   "source": [
    "# Output the accuracy for each value of k\n",
    "print(score_list)"
   ]
  },
  {
   "cell_type": "code",
   "execution_count": 44,
   "id": "8fa0864f-3118-4236-8e93-92f846f6331e",
   "metadata": {},
   "outputs": [
    {
     "data": {
      "text/plain": [
       "Text(0, 0.5, 'Test Accuracy')"
      ]
     },
     "execution_count": 44,
     "metadata": {},
     "output_type": "execute_result"
    },
    {
     "data": {
      "image/png": "[encoded data removed]",
      "text/plain": [
       "<Figure size 640x480 with 1 Axes>"
      ]
     },
     "metadata": {},
     "output_type": "display_data"
    }
   ],
   "source": [
    "import matplotlib.pyplot as plt\n",
    "plt.plot(k_range,score_list)\n",
    "plt.xlabel('Value of K for KNN')\n",
    "plt.ylabel('Test Accuracy')"
   ]
  },
  {
   "cell_type": "code",
   "execution_count": 52,
   "id": "658ff474-bd1c-4e18-b43d-a43d848c630d",
   "metadata": {},
   "outputs": [
    {
     "name": "stdout",
     "output_type": "stream",
     "text": [
      "[1 0 1 0 1]\n"
     ]
    }
   ],
   "source": [
    "new_test = pd.DataFrame([[6, 148, 72, 35, 0, 33.6, 0.627, 50],\n",
    "                         [1, 85, 66, 29, 0, 26.6, 0.351, 31],\n",
    "                         [8, 183, 64, 0, 0, 23.3, 0.672, 32],\n",
    "                         [1, 89, 66, 23, 94, 28.1, 0.167, 21],\n",
    "                         [0, 137, 40, 35, 168, 43.1, 2.288, 33]], \n",
    "                        columns=['pregnant', 'glucose', 'bp', 'skin', 'insulin', 'bmi', 'pedigree', 'age'])\n",
    "\n",
    "knn = CustomKNN(n_neighbors=3, p=2)\n",
    "knn.fit(X_train, y_train) \n",
    "\n",
    "# Predict for new data\n",
    "y_pred = knn.predict(new_test)\n",
    "print(y_pred)"
   ]
  },
  {
   "cell_type": "code",
   "execution_count": null,
   "id": "25467a21-1d65-4c1f-a78d-ea3925e8acc6",
   "metadata": {},
   "outputs": [],
   "source": []
  }
 ],
 "metadata": {
  "kernelspec": {
   "display_name": "Python 3 (ipykernel)",
   "language": "python",
   "name": "python3"
  },
  "language_info": {
   "codemirror_mode": {
    "name": "ipython",
    "version": 3
   },
   "file_extension": ".py",
   "mimetype": "text/x-python",
   "name": "python",
   "nbconvert_exporter": "python",
   "pygments_lexer": "ipython3",
   "version": "3.12.4"
  }
 },
 "nbformat": 4,
 "nbformat_minor": 5
}
