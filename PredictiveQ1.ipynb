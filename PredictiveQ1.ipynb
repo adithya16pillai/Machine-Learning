{
 "cells": [
  {
   "cell_type": "code",
   "execution_count": 1,
   "id": "48eac19c-3471-4db2-9d78-ee2a4dc88369",
   "metadata": {},
   "outputs": [],
   "source": [
    "import pandas as pd"
   ]
  },
  {
   "cell_type": "code",
   "execution_count": 2,
   "id": "ad709480-ab58-4d49-b6d7-aa1f0fb30135",
   "metadata": {},
   "outputs": [],
   "source": [
    "file_path = r'C:\\Users\\adith\\Desktop\\7th Sem\\Predicitve Analytics\\Loan_Dataset.csv'\n",
    "data = pd.read_csv(file_path)"
   ]
  },
  {
   "cell_type": "code",
   "execution_count": 3,
   "id": "24281ae9-e85a-4b48-b128-4ba134a9af6b",
   "metadata": {},
   "outputs": [
    {
     "data": {
      "text/html": [
       "<div>\n",
       "<style scoped>\n",
       "    .dataframe tbody tr th:only-of-type {\n",
       "        vertical-align: middle;\n",
       "    }\n",
       "\n",
       "    .dataframe tbody tr th {\n",
       "        vertical-align: top;\n",
       "    }\n",
       "\n",
       "    .dataframe thead th {\n",
       "        text-align: right;\n",
       "    }\n",
       "</style>\n",
       "<table border=\"1\" class=\"dataframe\">\n",
       "  <thead>\n",
       "    <tr style=\"text-align: right;\">\n",
       "      <th></th>\n",
       "      <th>credit.policy</th>\n",
       "      <th>purpose</th>\n",
       "      <th>int.rate</th>\n",
       "      <th>installment</th>\n",
       "      <th>log.annual.inc</th>\n",
       "      <th>dti</th>\n",
       "      <th>fico</th>\n",
       "      <th>days.with.cr.line</th>\n",
       "      <th>revol.bal</th>\n",
       "      <th>revol.util</th>\n",
       "      <th>inq.last.6mths</th>\n",
       "      <th>delinq.2yrs</th>\n",
       "      <th>pub.rec</th>\n",
       "      <th>not.fully.paid</th>\n",
       "    </tr>\n",
       "  </thead>\n",
       "  <tbody>\n",
       "    <tr>\n",
       "      <th>0</th>\n",
       "      <td>1</td>\n",
       "      <td>debt_consolidation</td>\n",
       "      <td>0.1189</td>\n",
       "      <td>829.10</td>\n",
       "      <td>11.350407</td>\n",
       "      <td>19.48</td>\n",
       "      <td>737</td>\n",
       "      <td>5639.958333</td>\n",
       "      <td>28854</td>\n",
       "      <td>52.1</td>\n",
       "      <td>0</td>\n",
       "      <td>0</td>\n",
       "      <td>0</td>\n",
       "      <td>0</td>\n",
       "    </tr>\n",
       "    <tr>\n",
       "      <th>1</th>\n",
       "      <td>1</td>\n",
       "      <td>credit_card</td>\n",
       "      <td>0.1071</td>\n",
       "      <td>228.22</td>\n",
       "      <td>11.082143</td>\n",
       "      <td>14.29</td>\n",
       "      <td>707</td>\n",
       "      <td>2760.000000</td>\n",
       "      <td>33623</td>\n",
       "      <td>76.7</td>\n",
       "      <td>0</td>\n",
       "      <td>0</td>\n",
       "      <td>0</td>\n",
       "      <td>0</td>\n",
       "    </tr>\n",
       "    <tr>\n",
       "      <th>2</th>\n",
       "      <td>1</td>\n",
       "      <td>debt_consolidation</td>\n",
       "      <td>0.1357</td>\n",
       "      <td>366.86</td>\n",
       "      <td>10.373491</td>\n",
       "      <td>11.63</td>\n",
       "      <td>682</td>\n",
       "      <td>4710.000000</td>\n",
       "      <td>3511</td>\n",
       "      <td>25.6</td>\n",
       "      <td>1</td>\n",
       "      <td>0</td>\n",
       "      <td>0</td>\n",
       "      <td>0</td>\n",
       "    </tr>\n",
       "    <tr>\n",
       "      <th>3</th>\n",
       "      <td>1</td>\n",
       "      <td>debt_consolidation</td>\n",
       "      <td>0.1008</td>\n",
       "      <td>162.34</td>\n",
       "      <td>11.350407</td>\n",
       "      <td>8.10</td>\n",
       "      <td>712</td>\n",
       "      <td>2699.958333</td>\n",
       "      <td>33667</td>\n",
       "      <td>73.2</td>\n",
       "      <td>1</td>\n",
       "      <td>0</td>\n",
       "      <td>0</td>\n",
       "      <td>0</td>\n",
       "    </tr>\n",
       "    <tr>\n",
       "      <th>4</th>\n",
       "      <td>1</td>\n",
       "      <td>credit_card</td>\n",
       "      <td>0.1426</td>\n",
       "      <td>102.92</td>\n",
       "      <td>11.299732</td>\n",
       "      <td>14.97</td>\n",
       "      <td>667</td>\n",
       "      <td>4066.000000</td>\n",
       "      <td>4740</td>\n",
       "      <td>39.5</td>\n",
       "      <td>0</td>\n",
       "      <td>1</td>\n",
       "      <td>0</td>\n",
       "      <td>0</td>\n",
       "    </tr>\n",
       "  </tbody>\n",
       "</table>\n",
       "</div>"
      ],
      "text/plain": [
       "   credit.policy             purpose  int.rate  installment  log.annual.inc  \\\n",
       "0              1  debt_consolidation    0.1189       829.10       11.350407   \n",
       "1              1         credit_card    0.1071       228.22       11.082143   \n",
       "2              1  debt_consolidation    0.1357       366.86       10.373491   \n",
       "3              1  debt_consolidation    0.1008       162.34       11.350407   \n",
       "4              1         credit_card    0.1426       102.92       11.299732   \n",
       "\n",
       "     dti  fico  days.with.cr.line  revol.bal  revol.util  inq.last.6mths  \\\n",
       "0  19.48   737        5639.958333      28854        52.1               0   \n",
       "1  14.29   707        2760.000000      33623        76.7               0   \n",
       "2  11.63   682        4710.000000       3511        25.6               1   \n",
       "3   8.10   712        2699.958333      33667        73.2               1   \n",
       "4  14.97   667        4066.000000       4740        39.5               0   \n",
       "\n",
       "   delinq.2yrs  pub.rec  not.fully.paid  \n",
       "0            0        0               0  \n",
       "1            0        0               0  \n",
       "2            0        0               0  \n",
       "3            0        0               0  \n",
       "4            1        0               0  "
      ]
     },
     "execution_count": 3,
     "metadata": {},
     "output_type": "execute_result"
    }
   ],
   "source": [
    "data.head()"
   ]
  },
  {
   "cell_type": "code",
   "execution_count": 4,
   "id": "6c110be1-d991-4fd4-a19a-473445514cf0",
   "metadata": {},
   "outputs": [],
   "source": [
    "from sklearn.model_selection import train_test_split\n",
    "from sklearn.preprocessing import StandardScaler, MinMaxScaler, LabelEncoder\n",
    "from sklearn.feature_selection import SelectKBest, f_classif"
   ]
  },
  {
   "cell_type": "code",
   "execution_count": null,
   "id": "6c7012d5-9988-4073-bd33-3858e3003ea1",
   "metadata": {},
   "outputs": [],
   "source": [
    "data = data.fillna(data.median()) # Check for missing values and handle them"
   ]
  },
  {
   "cell_type": "code",
   "execution_count": 8,
   "id": "3eca4e52-c7eb-42d0-8227-3ae0323ced42",
   "metadata": {},
   "outputs": [],
   "source": [
    "data = data.drop_duplicates()"
   ]
  },
  {
   "cell_type": "code",
   "execution_count": 10,
   "id": "77a57a5c-124f-4c76-a72f-debce665ac86",
   "metadata": {},
   "outputs": [],
   "source": [
    "label_encoders = {}\n",
    "for column in data.select_dtypes(include=['object']).columns:\n",
    "    label_encoders[column] = LabelEncoder()\n",
    "    data.loc[:, column] = label_encoders[column].fit_transform(data[column])"
   ]
  },
  {
   "cell_type": "code",
   "execution_count": 12,
   "id": "a636537b-eaa7-40d6-a84f-0a629d905bf1",
   "metadata": {},
   "outputs": [],
   "source": [
    "X = data.drop('not.fully.paid', axis=1) #Seperating features and target variables\n",
    "y = data['not.fully.paid']"
   ]
  },
  {
   "cell_type": "code",
   "execution_count": 13,
   "id": "66141520-b318-49ab-812b-fa9ecc3d7613",
   "metadata": {},
   "outputs": [],
   "source": [
    "scaler = MinMaxScaler() # Scaling\n",
    "X_scaled = pd.DataFrame(scaler.fit_transform(X), columns=X.columns)"
   ]
  },
  {
   "cell_type": "code",
   "execution_count": 14,
   "id": "c5b7c554-1a3c-4ec8-bd13-7b816649aeb8",
   "metadata": {},
   "outputs": [],
   "source": [
    "selector = SelectKBest(score_func=f_classif, k=8)  # Selecting top 8 features on the basis of correlation\n",
    "X_selected = selector.fit_transform(X_scaled, y)"
   ]
  },
  {
   "cell_type": "code",
   "execution_count": 15,
   "id": "bef32bcb-1184-4f9d-816a-f5b431331832",
   "metadata": {},
   "outputs": [],
   "source": [
    "X_train, X_test, y_train, y_test = train_test_split(X_selected, y, test_size=0.3, random_state=42)\n",
    "#Splitting the dataset"
   ]
  },
  {
   "cell_type": "code",
   "execution_count": 17,
   "id": "d0ec10a5-9263-4b25-bff9-c1d1b0efd762",
   "metadata": {},
   "outputs": [
    {
     "data": {
      "text/plain": [
       "(array([[5.47817048e-01, 1.00000000e+00, 9.06215921e-01, 9.84622807e-01,\n",
       "         5.90142672e-01, 0.00000000e+00, 0.00000000e+00, 0.00000000e+00],\n",
       "        [7.94178794e-01, 7.01812327e-04, 6.60305344e-01, 6.53263158e-01,\n",
       "         4.26718547e-01, 0.00000000e+00, 1.00000000e+00, 0.00000000e+00],\n",
       "        [7.41164241e-01, 2.37542831e-01, 4.41657579e-01, 5.40842105e-01,\n",
       "         2.74967575e-01, 0.00000000e+00, 0.00000000e+00, 0.00000000e+00],\n",
       "        [8.66943867e-01, 3.54580358e-01, 4.10577972e-01, 0.00000000e+00,\n",
       "         3.09987030e-01, 5.00000000e-01, 0.00000000e+00, 1.00000000e+00],\n",
       "        [7.07900208e-01, 4.92259423e-01, 6.04689204e-01, 9.81052632e-01,\n",
       "         8.41763943e-01, 5.00000000e-01, 0.00000000e+00, 1.00000000e+00]]),\n",
       " 0     0\n",
       " 4     0\n",
       " 16    0\n",
       " 5     0\n",
       " 13    0\n",
       " Name: not.fully.paid, dtype: int64)"
      ]
     },
     "execution_count": 17,
     "metadata": {},
     "output_type": "execute_result"
    }
   ],
   "source": [
    "X_train[:5], y_train[:5] #Displaying transformed and selected feature set"
   ]
  },
  {
   "cell_type": "code",
   "execution_count": 23,
   "id": "12abb1d2-244c-4e5b-96a7-e76ef39aafdb",
   "metadata": {},
   "outputs": [],
   "source": [
    "from sklearn.linear_model import LinearRegression\n",
    "from sklearn.ensemble import GradientBoostingRegressor\n",
    "from sklearn.cluster import KMeans\n",
    "from sklearn.metrics import mean_squared_error, r2_score, mean_absolute_error\n",
    "import numpy as np\n",
    "from sklearn.metrics import silhouette_score\n",
    "from sklearn.metrics import confusion_matrix, classification_report"
   ]
  },
  {
   "cell_type": "code",
   "execution_count": 24,
   "id": "781d7655-63e4-444b-8af2-d94ed421a573",
   "metadata": {},
   "outputs": [],
   "source": [
    "# Linear Regression\n",
    "linear_reg = LinearRegression()\n",
    "linear_reg.fit(X_train, y_train)\n",
    "y_pred_linear = linear_reg.predict(X_test)"
   ]
  },
  {
   "cell_type": "code",
   "execution_count": 22,
   "id": "8d07a608-8db9-44d4-b438-1186206974e7",
   "metadata": {},
   "outputs": [
    {
     "name": "stdout",
     "output_type": "stream",
     "text": [
      "Linear Regression:\n",
      "Mean Squared Error (MSE): 0.15947138454974089\n",
      "Root Mean Squared Error (RMSE): 0.3993386840136338\n",
      "R² Score: -0.6146477685661265\n",
      "Mean Absolute Error (MAE): 0.2098964118876679\n"
     ]
    }
   ],
   "source": [
    "linear_mse = mean_squared_error(y_test, y_pred_linear)\n",
    "linear_rmse = np.sqrt(linear_mse)\n",
    "linear_r2 = r2_score(y_test, y_pred_linear)\n",
    "linear_mae = mean_absolute_error(y_test, y_pred_linear)\n",
    "\n",
    "print(\"Linear Regression:\")\n",
    "print(\"Mean Squared Error (MSE):\", linear_mse)\n",
    "print(\"Root Mean Squared Error (RMSE):\", linear_rmse)\n",
    "print(\"R² Score:\", linear_r2)\n",
    "print(\"Mean Absolute Error (MAE):\", linear_mae)"
   ]
  },
  {
   "cell_type": "code",
   "execution_count": 27,
   "id": "a61a75c9-79a2-4ca0-9116-a808e799aed9",
   "metadata": {},
   "outputs": [
    {
     "name": "stdout",
     "output_type": "stream",
     "text": [
      "Confusion Matrix\n",
      "[[8 0]\n",
      " [1 0]]\n",
      "Classification Report\n",
      "              precision    recall  f1-score   support\n",
      "\n",
      "           0       0.89      1.00      0.94         8\n",
      "           1       0.00      0.00      0.00         1\n",
      "\n",
      "    accuracy                           0.89         9\n",
      "   macro avg       0.44      0.50      0.47         9\n",
      "weighted avg       0.79      0.89      0.84         9\n",
      "\n"
     ]
    },
    {
     "name": "stderr",
     "output_type": "stream",
     "text": [
      "C:\\Users\\adith\\anaconda3\\Lib\\site-packages\\sklearn\\metrics\\_classification.py:1344: UndefinedMetricWarning: Precision and F-score are ill-defined and being set to 0.0 in labels with no predicted samples. Use `zero_division` parameter to control this behavior.\n",
      "  _warn_prf(average, modifier, msg_start, len(result))\n",
      "C:\\Users\\adith\\anaconda3\\Lib\\site-packages\\sklearn\\metrics\\_classification.py:1344: UndefinedMetricWarning: Precision and F-score are ill-defined and being set to 0.0 in labels with no predicted samples. Use `zero_division` parameter to control this behavior.\n",
      "  _warn_prf(average, modifier, msg_start, len(result))\n",
      "C:\\Users\\adith\\anaconda3\\Lib\\site-packages\\sklearn\\metrics\\_classification.py:1344: UndefinedMetricWarning: Precision and F-score are ill-defined and being set to 0.0 in labels with no predicted samples. Use `zero_division` parameter to control this behavior.\n",
      "  _warn_prf(average, modifier, msg_start, len(result))\n"
     ]
    }
   ],
   "source": [
    "threshold = 0.5 # Calculation for confusion matrix and classification report\n",
    "y_pred_linear_class = (y_pred_linear >= threshold).astype(int)  # Convert to binary classes\n",
    "linear_confusion_matrix = confusion_matrix(y_test, y_pred_linear_class)\n",
    "print(\"Confusion Matrix\")\n",
    "print(linear_confusion_matrix)\n",
    "print(\"Classification Report\")\n",
    "print(classification_report(y_test, y_pred_linear_class))"
   ]
  },
  {
   "cell_type": "code",
   "execution_count": 28,
   "id": "a7086e30-9a56-4a8e-958e-8cb350e414df",
   "metadata": {},
   "outputs": [],
   "source": [
    "# Gradient Boosting Regressor\n",
    "gboost_reg = GradientBoostingRegressor(random_state=42)\n",
    "gboost_reg.fit(X_train, y_train)\n",
    "y_pred_gboost = gboost_reg.predict(X_test)"
   ]
  },
  {
   "cell_type": "code",
   "execution_count": 29,
   "id": "f0ec07d7-67cf-40e5-8d6d-2c5f611a94de",
   "metadata": {},
   "outputs": [
    {
     "name": "stdout",
     "output_type": "stream",
     "text": [
      "Gradient Boosting Regressor:\n",
      "Mean Squared Error (MSE): 0.1852025706862612\n",
      "Root Mean Squared Error (RMSE): 0.43035168256469175\n",
      "R² Score: -0.8751760281983947\n",
      "Mean Absolute Error (MAE): 0.23308208947452622\n"
     ]
    }
   ],
   "source": [
    "gboost_mse = mean_squared_error(y_test, y_pred_gboost)\n",
    "gboost_rmse = np.sqrt(gboost_mse)\n",
    "gboost_r2 = r2_score(y_test, y_pred_gboost)\n",
    "gboost_mae = mean_absolute_error(y_test, y_pred_gboost)\n",
    "\n",
    "print(\"Gradient Boosting Regressor:\")\n",
    "print(\"Mean Squared Error (MSE):\", gboost_mse)\n",
    "print(\"Root Mean Squared Error (RMSE):\", gboost_rmse)\n",
    "print(\"R² Score:\", gboost_r2)\n",
    "print(\"Mean Absolute Error (MAE):\", gboost_mae)"
   ]
  },
  {
   "cell_type": "code",
   "execution_count": 30,
   "id": "f4db6ba8-4236-484e-9ce5-0ef0902cc8fe",
   "metadata": {},
   "outputs": [
    {
     "name": "stdout",
     "output_type": "stream",
     "text": [
      "Confusion Matrix\n",
      "[[7 1]\n",
      " [1 0]]\n",
      "Classification Report\n",
      "              precision    recall  f1-score   support\n",
      "\n",
      "           0       0.88      0.88      0.88         8\n",
      "           1       0.00      0.00      0.00         1\n",
      "\n",
      "    accuracy                           0.78         9\n",
      "   macro avg       0.44      0.44      0.44         9\n",
      "weighted avg       0.78      0.78      0.78         9\n",
      "\n"
     ]
    }
   ],
   "source": [
    "threshold = 0.5\n",
    "y_pred_gboost_class = (y_pred_gboost >= threshold).astype(int)  # Convert to binary classes\n",
    "gboost_confusion_matrix = confusion_matrix(y_test, y_pred_gboost_class)\n",
    "print(\"Confusion Matrix\")\n",
    "print(gboost_confusion_matrix)\n",
    "print(\"Classification Report\")\n",
    "print(classification_report(y_test, y_pred_gboost_class))"
   ]
  },
  {
   "cell_type": "code",
   "execution_count": 31,
   "id": "d23f8565-4b94-489f-bfc1-cd058f2ba2f7",
   "metadata": {},
   "outputs": [
    {
     "name": "stderr",
     "output_type": "stream",
     "text": [
      "C:\\Users\\adith\\anaconda3\\Lib\\site-packages\\sklearn\\cluster\\_kmeans.py:870: FutureWarning: The default value of `n_init` will change from 10 to 'auto' in 1.4. Set the value of `n_init` explicitly to suppress the warning\n",
      "  warnings.warn(\n",
      "C:\\Users\\adith\\anaconda3\\Lib\\site-packages\\sklearn\\cluster\\_kmeans.py:1382: UserWarning: KMeans is known to have a memory leak on Windows with MKL, when there are less chunks than available threads. You can avoid it by setting the environment variable OMP_NUM_THREADS=1.\n",
      "  warnings.warn(\n"
     ]
    },
    {
     "name": "stdout",
     "output_type": "stream",
     "text": [
      "Silhouette Score: 0.11183384435562753\n"
     ]
    }
   ],
   "source": [
    "from sklearn.preprocessing import StandardScaler\n",
    "scaler = StandardScaler()\n",
    "X_scaled_kmeans = scaler.fit_transform(X)\n",
    "\n",
    "kmeans = KMeans(n_clusters=3, random_state=42)  # Fitting KMeans while assuming 3 clusters\n",
    "kmeans_labels = kmeans.fit_predict(X_scaled_kmeans)\n",
    "\n",
    "kmeans_silhouette = silhouette_score(X_scaled_kmeans, kmeans_labels)\n",
    "print(\"Silhouette Score:\", kmeans_silhouette)"
   ]
  },
  {
   "cell_type": "code",
   "execution_count": 32,
   "id": "87d23151-b5df-4fba-9e7f-81ccac9f369e",
   "metadata": {},
   "outputs": [
    {
     "name": "stdout",
     "output_type": "stream",
     "text": [
      "Confusion Matrix\n",
      "[[11 10  6]\n",
      " [ 0  2  1]\n",
      " [ 0  0  0]]\n",
      "Classification Report for K-Means Clustering:\n",
      "              precision    recall  f1-score   support\n",
      "\n",
      "           0       1.00      0.41      0.58        27\n",
      "           1       0.17      0.67      0.27         3\n",
      "           2       0.00      0.00      0.00         0\n",
      "\n",
      "    accuracy                           0.43        30\n",
      "   macro avg       0.39      0.36      0.28        30\n",
      "weighted avg       0.92      0.43      0.55        30\n",
      "\n"
     ]
    },
    {
     "name": "stderr",
     "output_type": "stream",
     "text": [
      "C:\\Users\\adith\\anaconda3\\Lib\\site-packages\\sklearn\\metrics\\_classification.py:1344: UndefinedMetricWarning: Recall and F-score are ill-defined and being set to 0.0 in labels with no true samples. Use `zero_division` parameter to control this behavior.\n",
      "  _warn_prf(average, modifier, msg_start, len(result))\n",
      "C:\\Users\\adith\\anaconda3\\Lib\\site-packages\\sklearn\\metrics\\_classification.py:1344: UndefinedMetricWarning: Recall and F-score are ill-defined and being set to 0.0 in labels with no true samples. Use `zero_division` parameter to control this behavior.\n",
      "  _warn_prf(average, modifier, msg_start, len(result))\n",
      "C:\\Users\\adith\\anaconda3\\Lib\\site-packages\\sklearn\\metrics\\_classification.py:1344: UndefinedMetricWarning: Recall and F-score are ill-defined and being set to 0.0 in labels with no true samples. Use `zero_division` parameter to control this behavior.\n",
      "  _warn_prf(average, modifier, msg_start, len(result))\n"
     ]
    }
   ],
   "source": [
    "kmeans_confusion_matrix = confusion_matrix(y, kmeans_labels)\n",
    "print(\"Confusion Matrix\")\n",
    "print(kmeans_confusion_matrix)\n",
    "print(\"Classification Report for K-Means Clustering:\")\n",
    "print(classification_report(y, kmeans_labels))"
   ]
  },
  {
   "cell_type": "code",
   "execution_count": null,
   "id": "f892ebff-acce-4056-a2e9-afc000b1967d",
   "metadata": {},
   "outputs": [],
   "source": []
  }
 ],
 "metadata": {
  "kernelspec": {
   "display_name": "Python 3 (ipykernel)",
   "language": "python",
   "name": "python3"
  },
  "language_info": {
   "codemirror_mode": {
    "name": "ipython",
    "version": 3
   },
   "file_extension": ".py",
   "mimetype": "text/x-python",
   "name": "python",
   "nbconvert_exporter": "python",
   "pygments_lexer": "ipython3",
   "version": "3.11.7"
  }
 },
 "nbformat": 4,
 "nbformat_minor": 5
}
