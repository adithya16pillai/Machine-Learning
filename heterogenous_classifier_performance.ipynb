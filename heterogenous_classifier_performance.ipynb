{
 "cells": [
  {
   "cell_type": "code",
   "execution_count": 1,
   "id": "c9385c65-300c-4695-b5e0-be84a8d92517",
   "metadata": {},
   "outputs": [],
   "source": [
    "from sklearn.datasets import load_iris\n",
    "from sklearn.model_selection import train_test_split\n",
    "from sklearn.linear_model import LogisticRegression\n",
    "from sklearn.neighbors import KNeighborsClassifier\n",
    "from sklearn.ensemble import RandomForestClassifier\n",
    "from sklearn.metrics import accuracy_score, classification_report\n",
    "import numpy as np"
   ]
  },
  {
   "cell_type": "code",
   "execution_count": 2,
   "id": "ab571616-85dc-41ce-a87f-89190983fe6f",
   "metadata": {},
   "outputs": [],
   "source": [
    "data = load_iris()\n",
    "X, y = data.data, data.target\n",
    "X_train, X_test, y_train, y_test = train_test_split(X, y, test_size=0.3, random_state=42)"
   ]
  },
  {
   "cell_type": "code",
   "execution_count": 3,
   "id": "e5a39d8b-4183-4d80-8709-f22025df00ed",
   "metadata": {},
   "outputs": [],
   "source": [
    "class CustomLogisticRegression:\n",
    "    def __init__(self, learning_rate=0.01, epochs=1000):\n",
    "        self.learning_rate = learning_rate\n",
    "        self.epochs = epochs\n",
    "        self.weights = None\n",
    "        self.bias = None\n",
    "\n",
    "    def sigmoid(self, z):\n",
    "        return 1 / (1 + np.exp(-z))\n",
    "\n",
    "    def fit(self, X, y):\n",
    "        self.classes = np.unique(y)\n",
    "        self.weights = []\n",
    "        self.bias = []\n",
    "\n",
    "        for cls in self.classes:\n",
    "            y_binary = np.where(y == cls, 1, 0)\n",
    "            weights = np.zeros(X.shape[1])\n",
    "            bias = 0\n",
    "\n",
    "            for _ in range(self.epochs):\n",
    "                model = np.dot(X, weights) + bias\n",
    "                predictions = self.sigmoid(model)\n",
    "\n",
    "                dw = np.dot(X.T, (predictions - y_binary)) / X.shape[0]\n",
    "                db = np.sum(predictions - y_binary) / X.shape[0]\n",
    "\n",
    "                weights -= self.learning_rate * dw\n",
    "                bias -= self.learning_rate * db\n",
    "\n",
    "            self.weights.append(weights)\n",
    "            self.bias.append(bias)\n",
    "\n",
    "    def predict(self, X):\n",
    "        logits = [np.dot(X, weights) + bias for weights, bias in zip(self.weights, self.bias)]\n",
    "        return np.argmax(logits, axis=0)"
   ]
  },
  {
   "cell_type": "code",
   "execution_count": 4,
   "id": "f108e555-0c3a-4380-a270-b5765977da5c",
   "metadata": {},
   "outputs": [],
   "source": [
    "logistic_clf = CustomLogisticRegression()\n",
    "logistic_clf.fit(X_train, y_train)\n",
    "logistic_preds = logistic_clf.predict(X_test)"
   ]
  },
  {
   "cell_type": "code",
   "execution_count": 6,
   "id": "27a03fb5-b353-4a8d-9318-7192394a6199",
   "metadata": {},
   "outputs": [
    {
     "name": "stdout",
     "output_type": "stream",
     "text": [
      "Custom Logistic Regression Accuracy: 0.8666666666666667\n"
     ]
    }
   ],
   "source": [
    "print(\"Custom Logistic Regression Accuracy:\", accuracy_score(y_test, logistic_preds))"
   ]
  },
  {
   "cell_type": "code",
   "execution_count": 7,
   "id": "e8ad4850-fde9-47e5-bfa2-5df883e5c537",
   "metadata": {},
   "outputs": [],
   "source": [
    "class CustomKNN:\n",
    "    def __init__(self, k=3):\n",
    "        self.k = k\n",
    "\n",
    "    def fit(self, X, y):\n",
    "        self.X_train = X\n",
    "        self.y_train = y\n",
    "\n",
    "    def predict(self, X):\n",
    "        predictions = []\n",
    "        for x in X:\n",
    "            distances = np.sqrt(np.sum((self.X_train - x) ** 2, axis=1))\n",
    "            k_nearest_indices = np.argsort(distances)[:self.k]\n",
    "            k_nearest_labels = self.y_train[k_nearest_indices]\n",
    "            predictions.append(np.argmax(np.bincount(k_nearest_labels)))\n",
    "        return np.array(predictions)"
   ]
  },
  {
   "cell_type": "code",
   "execution_count": 8,
   "id": "1d1d2633-7903-44f9-9278-834883e2eb16",
   "metadata": {},
   "outputs": [],
   "source": [
    "knn_clf = CustomKNN(k=5)\n",
    "knn_clf.fit(X_train, y_train)\n",
    "knn_preds = knn_clf.predict(X_test)"
   ]
  },
  {
   "cell_type": "code",
   "execution_count": 9,
   "id": "0f8a23fd-b932-4850-9f59-155c86504ccd",
   "metadata": {},
   "outputs": [
    {
     "name": "stdout",
     "output_type": "stream",
     "text": [
      "Custom K-Nearest Neighbors Accuracy: 1.0\n"
     ]
    }
   ],
   "source": [
    "print(\"Custom K-Nearest Neighbors Accuracy:\", accuracy_score(y_test, knn_preds))"
   ]
  },
  {
   "cell_type": "code",
   "execution_count": 10,
   "id": "6940c147-570c-4071-afc1-f859a813dce7",
   "metadata": {},
   "outputs": [],
   "source": [
    "class CustomDecisionTree:\n",
    "    def fit(self, X, y):\n",
    "        self.tree = self.build_tree(X, y)\n",
    "\n",
    "    def build_tree(self, X, y, depth=1, max_depth=5):\n",
    "        if len(set(y)) == 1 or depth == max_depth:\n",
    "            return np.argmax(np.bincount(y))\n",
    "\n",
    "        best_split = None\n",
    "        max_gain = -float(\"inf\")\n",
    "\n",
    "        for feature in range(X.shape[1]):\n",
    "            thresholds = np.unique(X[:, feature])\n",
    "            for threshold in thresholds:\n",
    "                left_indices = X[:, feature] < threshold\n",
    "                right_indices = ~left_indices\n",
    "                gain = self.information_gain(y, left_indices, right_indices)\n",
    "                if gain > max_gain:\n",
    "                    max_gain = gain\n",
    "                    best_split = {\"feature\": feature, \"threshold\": threshold, \"left\": left_indices, \"right\": right_indices}\n",
    "\n",
    "        left_tree = self.build_tree(X[best_split[\"left\"]], y[best_split[\"left\"]], depth + 1)\n",
    "        right_tree = self.build_tree(X[best_split[\"right\"]], y[best_split[\"right\"]], depth + 1)\n",
    "\n",
    "        return {\"split\": best_split, \"left\": left_tree, \"right\": right_tree}\n",
    "\n",
    "    def predict_one(self, x, tree):\n",
    "        if isinstance(tree, dict):\n",
    "            if x[tree[\"split\"][\"feature\"]] < tree[\"split\"][\"threshold\"]:\n",
    "                return self.predict_one(x, tree[\"left\"])\n",
    "            else:\n",
    "                return self.predict_one(x, tree[\"right\"])\n",
    "        else:\n",
    "            return tree\n",
    "\n",
    "    def predict(self, X):\n",
    "        return np.array([self.predict_one(x, self.tree) for x in X])\n",
    "\n",
    "    def information_gain(self, y, left_indices, right_indices):\n",
    "        # Calculating Gini impurity gain\n",
    "        left, right = y[left_indices], y[right_indices]\n",
    "        p_left, p_right = len(left) / len(y), len(right) / len(y)\n",
    "        gain = self.gini(y) - (p_left * self.gini(left) + p_right * self.gini(right))\n",
    "        return gain\n",
    "\n",
    "    def gini(self, y):\n",
    "        proportions = [np.sum(y == c) / len(y) for c in np.unique(y)]\n",
    "        return 1 - sum(p ** 2 for p in proportions)"
   ]
  },
  {
   "cell_type": "code",
   "execution_count": 11,
   "id": "73b7c850-0d3d-4053-866d-b479f2cb6428",
   "metadata": {},
   "outputs": [],
   "source": [
    "tree_clf = CustomDecisionTree()\n",
    "tree_clf.fit(X_train, y_train)\n",
    "tree_preds = tree_clf.predict(X_test)"
   ]
  },
  {
   "cell_type": "code",
   "execution_count": 12,
   "id": "2981b3e8-7406-47dd-9943-aca7a73a9c69",
   "metadata": {},
   "outputs": [
    {
     "name": "stdout",
     "output_type": "stream",
     "text": [
      "Custom Decision Tree Accuracy: 1.0\n"
     ]
    }
   ],
   "source": [
    "print(\"Custom Decision Tree Accuracy:\", accuracy_score(y_test, tree_preds))"
   ]
  },
  {
   "cell_type": "code",
   "execution_count": 14,
   "id": "0baecdf7-7e4a-4ecf-8ecd-bb578e7632ca",
   "metadata": {},
   "outputs": [
    {
     "name": "stdout",
     "output_type": "stream",
     "text": [
      "Voting Classifier Accuracy: 1.0\n"
     ]
    }
   ],
   "source": [
    "all_preds = np.array([logistic_preds, knn_preds, tree_preds])\n",
    "voting_preds = np.apply_along_axis(lambda x: np.bincount(x).argmax(), axis=0, arr=all_preds)\n",
    "\n",
    "print(\"Voting Classifier Accuracy:\", accuracy_score(y_test, voting_preds))"
   ]
  },
  {
   "cell_type": "code",
   "execution_count": 15,
   "id": "b98168c3-ae24-4909-853b-fe9e0aa08521",
   "metadata": {},
   "outputs": [
    {
     "name": "stdout",
     "output_type": "stream",
     "text": [
      "Combined Voting Classifier Accuracy: 1.0\n",
      "\n",
      "Classification Report - Combined Voting Classifier:\n",
      "               precision    recall  f1-score   support\n",
      "\n",
      "           0       1.00      1.00      1.00        19\n",
      "           1       1.00      1.00      1.00        13\n",
      "           2       1.00      1.00      1.00        13\n",
      "\n",
      "    accuracy                           1.00        45\n",
      "   macro avg       1.00      1.00      1.00        45\n",
      "weighted avg       1.00      1.00      1.00        45\n",
      "\n"
     ]
    }
   ],
   "source": [
    "voting_accuracy = accuracy_score(y_test, voting_preds)\n",
    "print(\"Combined Voting Classifier Accuracy:\", voting_accuracy)\n",
    "\n",
    "voting_classification_report = classification_report(y_test, voting_preds)\n",
    "print(\"\\nClassification Report - Combined Voting Classifier:\\n\", voting_classification_report)"
   ]
  },
  {
   "cell_type": "code",
   "execution_count": null,
   "id": "93d3bf32-5c4a-466f-81a8-44e0e686559d",
   "metadata": {},
   "outputs": [],
   "source": []
  }
 ],
 "metadata": {
  "kernelspec": {
   "display_name": "Python 3 (ipykernel)",
   "language": "python",
   "name": "python3"
  },
  "language_info": {
   "codemirror_mode": {
    "name": "ipython",
    "version": 3
   },
   "file_extension": ".py",
   "mimetype": "text/x-python",
   "name": "python",
   "nbconvert_exporter": "python",
   "pygments_lexer": "ipython3",
   "version": "3.11.7"
  }
 },
 "nbformat": 4,
 "nbformat_minor": 5
}
